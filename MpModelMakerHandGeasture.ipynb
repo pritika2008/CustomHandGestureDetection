{
 "cells": [
  {
   "cell_type": "code",
   "execution_count": null,
   "metadata": {},
   "outputs": [],
   "source": [
    "from mediapipe_model_maker import gesture_recognizer\n",
    "from mediapipe_model_maker.gesture_recognizer import Dataset\n",
    "\n",
    "dataset = Dataset.from_csv('data/gesture_data.csv')\n",
    "\n",
    "train_data, test_data = dataset.split(0.8)\n",
    "\n",
    "model = gesture_recognizer.create(train_data, validation_data=test_data)\n",
    "\n",
    "loss, acc = model.evaluate(test_data)\n",
    "print(f\"Test accuracy: {acc:.2f}\")\n",
    "\n",
    "model.export_model('handGestureModelMP')  #contains a .task and a .tflite\n",
    "#.task is for real-time gesture detection using MediaPipe Tasks\n",
    "#.tfile is for mobile\n",
    "\n",
    "\n"
   ]
  }
 ],
 "metadata": {
  "kernelspec": {
   "display_name": "Python 3",
   "language": "python",
   "name": "python3"
  },
  "language_info": {
   "codemirror_mode": {
    "name": "ipython",
    "version": 3
   },
   "file_extension": ".py",
   "mimetype": "text/x-python",
   "name": "python",
   "nbconvert_exporter": "python",
   "pygments_lexer": "ipython3",
   "version": "3.8.5"
  }
 },
 "nbformat": 4,
 "nbformat_minor": 4
}
